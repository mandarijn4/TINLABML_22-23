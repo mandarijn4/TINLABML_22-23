{
 "cells": [
  {
   "cell_type": "markdown",
   "id": "0b641940",
   "metadata": {},
   "source": [
    "# Data Science - practicum"
   ]
  },
  {
   "cell_type": "markdown",
   "id": "df20e757",
   "metadata": {},
   "source": [
    "## Opdracht 1: Sea Level Change\n",
    "### Global Average Absolute Sea Level Change, 1880-2014\n",
    "\n",
    "https://www.kaggle.com/datasets/somesh24/sea-level-change\n",
    "\n",
    "### Doel\n",
    "\n",
    "- Inzicht in zeespiegelstijging\n",
    "- Model maken dat stijging kan voorspellen"
   ]
  },
  {
   "cell_type": "markdown",
   "id": "2a29b254",
   "metadata": {},
   "source": [
    "### Stap 1: Data inladen"
   ]
  },
  {
   "cell_type": "code",
   "execution_count": 1,
   "id": "b72b3d7e",
   "metadata": {},
   "outputs": [],
   "source": [
    "# Use pandas to load 'sea_levels_2015.csv'\n",
    "\n",
    "# ...\n",
    "\n",
    "# To check if this set is complete, use:\n",
    "\n",
    "# levels.isnull().sum()"
   ]
  },
  {
   "cell_type": "markdown",
   "id": "f5564726",
   "metadata": {},
   "source": [
    "### Stap 2: Data bekijken"
   ]
  },
  {
   "cell_type": "code",
   "execution_count": 2,
   "id": "2b836d71",
   "metadata": {},
   "outputs": [],
   "source": [
    "# Plot the sea level data\n",
    "\n",
    "# ..."
   ]
  },
  {
   "cell_type": "markdown",
   "id": "b2553542",
   "metadata": {},
   "source": [
    "### Stap 3: Tends zoeken\n",
    "\n",
    "- Zijn er trends zichtbaar in de data?\n",
    "- Zo ja, welke zijn dat?\n",
    "- Zoom desnoods wat in; neem als range 1 jaar\n",
    "\n",
    "Bouw op basis van deze inzichten een model."
   ]
  },
  {
   "cell_type": "code",
   "execution_count": 3,
   "id": "83092a83",
   "metadata": {},
   "outputs": [],
   "source": [
    "# def model(a, b, c, ...):\n",
    "#   ...\n",
    "\n",
    "# Fit your model\n",
    "\n",
    "# ...\n",
    "\n",
    "# Plot your fit\n",
    "\n",
    "# ..."
   ]
  },
  {
   "cell_type": "markdown",
   "id": "1b7a16b6",
   "metadata": {},
   "source": [
    "### Stap 4: Voorspellen\n",
    "\n",
    "Kun je op basis van je model voorspellen wat de gemiddelde zeespiegel is in 2100?"
   ]
  },
  {
   "cell_type": "code",
   "execution_count": 4,
   "id": "5c849f12",
   "metadata": {},
   "outputs": [],
   "source": [
    "# Extrapolate to 2100 with your model\n",
    "\n",
    "# ...\n",
    "\n",
    "# Optional: can you plot the future up to 2100?\n",
    "\n",
    "# ..."
   ]
  },
  {
   "cell_type": "markdown",
   "id": "deacce73",
   "metadata": {},
   "source": [
    "Is je uitkomst verontrustend?"
   ]
  },
  {
   "cell_type": "markdown",
   "id": "2743d141",
   "metadata": {},
   "source": [
    "## Opdracht 2: COVID-19\n",
    "### Visualizations, Predictions, Forecasting\n",
    "\n",
    "https://www.kaggle.com/code/neelkudu28/covid-19-visualizations-predictions-forecasting\n",
    "\n",
    "### Doel\n",
    "\n",
    "- Inzicht in verloop COVID in India\n",
    "- Model maken dat verloop kan voorspellen\n",
    "- Ervaren hoe het is om met beperkte data de toekomst te moeten voorspellen"
   ]
  },
  {
   "cell_type": "markdown",
   "id": "83553b13",
   "metadata": {},
   "source": [
    "### Stap 1: Data inladen"
   ]
  },
  {
   "cell_type": "code",
   "execution_count": 5,
   "id": "23558a17",
   "metadata": {},
   "outputs": [],
   "source": [
    "# Use pandas to load 'covid_19_data.csv'\n",
    "\n",
    "# ...\n",
    "\n",
    "# To check if this set is complete, use:\n",
    "\n",
    "# covid.isnull().sum()"
   ]
  },
  {
   "cell_type": "markdown",
   "id": "9d5e4b6a",
   "metadata": {},
   "source": [
    "### Stap 2: Filteren\n",
    "\n",
    "We gaan het verloop van India bekijken."
   ]
  },
  {
   "cell_type": "code",
   "execution_count": 6,
   "id": "573759fa",
   "metadata": {},
   "outputs": [],
   "source": [
    "# Put the India data in an india dataframe\n",
    "\n",
    "# ...\n",
    "\n",
    "# Make a new column with the active cases, use:\n",
    "\n",
    "# Active Cases = Number of Confirmed Cases - Number of Recovered Cases - Number of Death Cases"
   ]
  },
  {
   "cell_type": "markdown",
   "id": "33816f67",
   "metadata": {},
   "source": [
    "### Stap 3: Range selecteren\n",
    "\n",
    "De uitbraak is in volle gang."
   ]
  },
  {
   "cell_type": "code",
   "execution_count": 7,
   "id": "f004c655",
   "metadata": {},
   "outputs": [],
   "source": [
    "# Select the range from februari to july\n",
    "\n",
    "# ..."
   ]
  },
  {
   "cell_type": "markdown",
   "id": "fae5d7a4",
   "metadata": {},
   "source": [
    "### Stap 4: Voorspellen\n",
    "\n",
    "Aan jou de taak om het verloop tot en met december te voorspellen."
   ]
  },
  {
   "cell_type": "code",
   "execution_count": 8,
   "id": "92fe53da",
   "metadata": {},
   "outputs": [],
   "source": [
    "# def model(a, b, c, ...):\n",
    "#   ...\n",
    "\n",
    "# Fit your model\n",
    "\n",
    "# ...\n",
    "\n",
    "# Plot your fit up to december\n",
    "\n",
    "# ..."
   ]
  },
  {
   "cell_type": "markdown",
   "id": "b311699d",
   "metadata": {},
   "source": [
    "Zit je er ver naast?"
   ]
  },
  {
   "cell_type": "markdown",
   "id": "9438b942",
   "metadata": {},
   "source": [
    "## Opdracht 3: Coca Cola Stock\n",
    "### Performance of Coca Cola Stock from 1962 to today\n",
    "\n",
    "https://www.kaggle.com/datasets/kalilurrahman/coca-cola-stock-live-and-updated\n",
    "\n",
    "### Doel\n",
    "\n",
    "- De koers van Coca Cola voorspellen\n",
    "- Rijk worden!!!"
   ]
  },
  {
   "cell_type": "markdown",
   "id": "8fa7c8cc",
   "metadata": {},
   "source": [
    "### Stap 1: Data inladen"
   ]
  },
  {
   "cell_type": "code",
   "execution_count": 9,
   "id": "9e33ef01",
   "metadata": {},
   "outputs": [],
   "source": [
    "# Use pandas to load 'coca_cola_stock_history.csv'\n",
    "\n",
    "# ...\n",
    "\n",
    "# To check if this set is complete, use:\n",
    "\n",
    "# levels.isnull().sum()"
   ]
  },
  {
   "cell_type": "markdown",
   "id": "cfbf2896",
   "metadata": {},
   "source": [
    "### Stap 2: Range selecteren\n",
    "\n",
    "Het is het jaar 1997 dus je beschikt over aardig wat koersdata."
   ]
  },
  {
   "cell_type": "code",
   "execution_count": 10,
   "id": "102dbb72",
   "metadata": {},
   "outputs": [],
   "source": [
    "# Select the data between begin 1962 and end 1997\n",
    "\n",
    "# ..."
   ]
  },
  {
   "cell_type": "markdown",
   "id": "6eb27ed4",
   "metadata": {},
   "source": [
    "### Stap 3: Tends zoeken\n",
    "\n",
    "- Zijn er trends zichtbaar in de data?\n",
    "- Zo ja, welke zijn dat?\n",
    "\n",
    "Bouw op basis van deze inzichten een model."
   ]
  },
  {
   "cell_type": "code",
   "execution_count": 11,
   "id": "2e705447",
   "metadata": {},
   "outputs": [],
   "source": [
    "# def model(a, b, c, ...):\n",
    "#   ...\n",
    "\n",
    "# Fit your model\n",
    "\n",
    "# ...\n",
    "\n",
    "# Plot your fit\n",
    "\n",
    "# ..."
   ]
  },
  {
   "cell_type": "markdown",
   "id": "a71e302e",
   "metadata": {},
   "source": [
    "### Stap 4: Big bet\n",
    "\n",
    "- Doe op basis van je model een voorspelling voor december 2021\n",
    "\n",
    "Dit is de prijs die je gaat betalen voor je _future_."
   ]
  },
  {
   "cell_type": "code",
   "execution_count": 12,
   "id": "816f6cd0",
   "metadata": {},
   "outputs": [],
   "source": [
    "# Extrapolate to 2021 with your model\n",
    "\n",
    "# ..."
   ]
  },
  {
   "cell_type": "markdown",
   "id": "c990fa1c",
   "metadata": {},
   "source": [
    "### Stap 5: Winning...?\n",
    "\n",
    "Je hebt 10.000 _futures_ Coca Cola gekocht. Dit betekent dat je de aandelen Coca Cola MOET kopen.\n",
    "\n",
    "- Als de waarde lager is dan je voorspelling: bingo!"
   ]
  },
  {
   "cell_type": "code",
   "execution_count": 13,
   "id": "ce47f2ce",
   "metadata": {},
   "outputs": [],
   "source": [
    "# Compute your profit or loss\n",
    "\n",
    "# ..."
   ]
  },
  {
   "cell_type": "markdown",
   "id": "df5a8880",
   "metadata": {},
   "source": [
    "...or losing? Hoeveel geld heb je gewonnen / verloren?"
   ]
  }
 ],
 "metadata": {
  "kernelspec": {
   "display_name": "Python 3 (ipykernel)",
   "language": "python",
   "name": "python3"
  },
  "language_info": {
   "codemirror_mode": {
    "name": "ipython",
    "version": 3
   },
   "file_extension": ".py",
   "mimetype": "text/x-python",
   "name": "python",
   "nbconvert_exporter": "python",
   "pygments_lexer": "ipython3",
   "version": "3.10.6"
  }
 },
 "nbformat": 4,
 "nbformat_minor": 5
}
